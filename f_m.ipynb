{
 "cells": [
  {
   "cell_type": "code",
   "execution_count": 15,
   "metadata": {},
   "outputs": [],
   "source": [
    "import json\n",
    "\n",
    "purchase = {}\n",
    "\n",
    "with open('purchase_log.txt', 'r') as f:\n",
    "    for line in f:\n",
    "        dic = json.loads(line)\n",
    "        userId = dic['user_id']\n",
    "        category = dic['category']\n",
    "        purchase[userId] = category\n",
    "\n",
    "with open('visit_log.csv', 'r') as visit:\n",
    "    with open('funnel.csv', 'w') as funnel:\n",
    "        for line in visit:\n",
    "            line = line.strip()\n",
    "            userId, source = line.split(',')\n",
    "            if userId in purchase:\n",
    "                line_funnel = userId + ', ' + source + ', ' + purchase[userId] + '\\n'\n",
    "                funnel.write(line_funnel)"
   ]
  },
  {
   "cell_type": "code",
   "execution_count": null,
   "metadata": {},
   "outputs": [],
   "source": []
  }
 ],
 "metadata": {
  "kernelspec": {
   "display_name": "Python 3",
   "language": "python",
   "name": "python3"
  },
  "language_info": {
   "codemirror_mode": {
    "name": "ipython",
    "version": 3
   },
   "file_extension": ".py",
   "mimetype": "text/x-python",
   "name": "python",
   "nbconvert_exporter": "python",
   "pygments_lexer": "ipython3",
   "version": "3.8.5"
  }
 },
 "nbformat": 4,
 "nbformat_minor": 4
}
